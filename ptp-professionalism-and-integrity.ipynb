{
 "cells": [
  {
   "cell_type": "markdown",
   "id": "d4ee9e4b",
   "metadata": {},
   "source": [
    "***\n",
    "< [Home](https://github.com/SeanOhAileasa) | [README](https://github.com/SeanOhAileasa/ptp-professionalism-and-integrity/blob/main/README.md) >\n",
    "\n",
    "## CompTIA PenTest+ - Course Material 2022\n",
    "###### Topic: ``Professionalism and Integrity``\n",
    "***"
   ]
  },
  {
   "cell_type": "markdown",
   "id": "b82b07fb",
   "metadata": {},
   "source": [
    "Course material for the ``CompTIA PenTest+`` module of the ``ICT Associate Apprenticeship (Cybersecurity)`` programme."
   ]
  },
  {
   "cell_type": "markdown",
   "id": "e7228f57",
   "metadata": {},
   "source": [
    "<a id=\"top\"></a>\n",
    "***\n",
    "## Table of Contents\n",
    "***"
   ]
  },
  {
   "cell_type": "markdown",
   "id": "c2bb5e7b",
   "metadata": {},
   "source": [
    "### [Professionalism and Integrity](#aa) <br/><br/>\n",
    "<hr width=50%;>"
   ]
  },
  {
   "cell_type": "markdown",
   "id": "25494bdf",
   "metadata": {},
   "source": [
    "### [Performing Background Checks](#A) <br/><br/>\n",
    "<hr width=50%;>"
   ]
  },
  {
   "cell_type": "markdown",
   "id": "ec046637",
   "metadata": {},
   "source": [
    "### [Adhering to the Scope of Engagement](#B) <br/><br/>\n",
    "<hr width=50%;>"
   ]
  },
  {
   "cell_type": "markdown",
   "id": "4749cf81",
   "metadata": {},
   "source": [
    "### [Activity Deemed Criminal in Nature](#C) <br/><br/>\n",
    "<hr width=50%;>"
   ]
  },
  {
   "cell_type": "markdown",
   "id": "4dc2ec7f",
   "metadata": {},
   "source": [
    "### [Reporting Security Breaches and Suspicious Activity](#D) <br/><br/>\n",
    "<hr width=50%;>"
   ]
  },
  {
   "cell_type": "markdown",
   "id": "7a9cbd51",
   "metadata": {},
   "source": [
    "### [Limiting Tool Selection](#E) <br/><br/>\n",
    "<hr width=50%;>"
   ]
  },
  {
   "cell_type": "markdown",
   "id": "16234bfb",
   "metadata": {},
   "source": [
    "### [Limiting Invasiveness](#F) <br/><br/>\n",
    "<hr width=50%;>"
   ]
  },
  {
   "cell_type": "markdown",
   "id": "9897c6c9",
   "metadata": {},
   "source": [
    "### [Maintaining Confidentiality of Data](#G) <br/><br/>\n",
    "<hr width=50%;>"
   ]
  },
  {
   "cell_type": "markdown",
   "id": "1e0a90a6",
   "metadata": {},
   "source": [
    "### [Penetration Tester Risks](#H) <br/><br/>\n",
    "<hr width=50%;>"
   ]
  },
  {
   "cell_type": "markdown",
   "id": "8ab64a55",
   "metadata": {},
   "source": [
    "### [Course Summary](#I) <br/><br/>\n",
    "<hr width=50%;>"
   ]
  },
  {
   "cell_type": "markdown",
   "id": "bf2b95e2",
   "metadata": {},
   "source": [
    "***\n",
    "## END"
   ]
  },
  {
   "cell_type": "markdown",
   "id": "34aa6eb5",
   "metadata": {},
   "source": [
    "< [Table of Contents](#top) | [References](#references) >\n",
    "<a id=\"aa\"></a>\n",
    "***\n",
    "### Professionalism and Integrity\n",
    "***"
   ]
  },
  {
   "cell_type": "markdown",
   "id": "601222f7",
   "metadata": {},
   "source": []
  },
  {
   "cell_type": "markdown",
   "id": "b46b8dca",
   "metadata": {},
   "source": [
    "< [Table of Contents](#top) | [References](#references) >\n",
    "<a id=\"A\"></a>\n",
    "***\n",
    "### Performing Background Checks\n",
    "*** "
   ]
  },
  {
   "cell_type": "markdown",
   "id": "6db008c8",
   "metadata": {},
   "source": []
  },
  {
   "cell_type": "markdown",
   "id": "77c0ec98",
   "metadata": {},
   "source": [
    "< [Table of Contents](#top) | [References](#references) >\n",
    "<a id=\"B\"></a>\n",
    "***\n",
    "### Adhering to the Scope of Engagement\n",
    "*** "
   ]
  },
  {
   "cell_type": "markdown",
   "id": "17ce1343",
   "metadata": {},
   "source": []
  },
  {
   "cell_type": "markdown",
   "id": "3baef1fd",
   "metadata": {},
   "source": [
    "< [Table of Contents](#top) | [References](#references) >\n",
    "<a id=\"C\"></a>\n",
    "***\n",
    "### Activity Deemed Criminal in Nature\n",
    "*** "
   ]
  },
  {
   "cell_type": "markdown",
   "id": "c563c713",
   "metadata": {},
   "source": []
  },
  {
   "cell_type": "markdown",
   "id": "9d1a38e9",
   "metadata": {},
   "source": [
    "< [Table of Contents](#top) | [References](#references) >\n",
    "<a id=\"D\"></a>\n",
    "***\n",
    "### Reporting Security Breaches and Suspicious Activity\n",
    "***"
   ]
  },
  {
   "cell_type": "markdown",
   "id": "e194f3f9",
   "metadata": {},
   "source": []
  },
  {
   "cell_type": "markdown",
   "id": "b06a33f9",
   "metadata": {},
   "source": [
    "< [Table of Contents](#top) | [References](#references) >\n",
    "<a id=\"E\"></a>\n",
    "***\n",
    "### Limiting Tool Selection\n",
    "*** "
   ]
  },
  {
   "cell_type": "markdown",
   "id": "e4d242a6",
   "metadata": {},
   "source": []
  },
  {
   "cell_type": "markdown",
   "id": "c5ca97e1",
   "metadata": {},
   "source": [
    "< [Table of Contents](#top) | [References](#references) >\n",
    "<a id=\"F\"></a>\n",
    "***\n",
    "### Limiting Invasiveness\n",
    "*** "
   ]
  },
  {
   "cell_type": "markdown",
   "id": "c98a8bfc",
   "metadata": {},
   "source": []
  },
  {
   "cell_type": "markdown",
   "id": "d73d11ee",
   "metadata": {},
   "source": [
    "< [Table of Contents](#top) | [References](#references) >\n",
    "<a id=\"G\"></a>\n",
    "***\n",
    "### Maintaining Confidentiality of Data\n",
    "*** "
   ]
  },
  {
   "cell_type": "markdown",
   "id": "0aa56967",
   "metadata": {},
   "source": []
  },
  {
   "cell_type": "markdown",
   "id": "093a77b3",
   "metadata": {},
   "source": [
    "< [Table of Contents](#top) | [References](#references) >\n",
    "<a id=\"H\"></a>\n",
    "***\n",
    "### Penetration Tester Risks\n",
    "***"
   ]
  },
  {
   "cell_type": "markdown",
   "id": "f1314ec1",
   "metadata": {},
   "source": []
  },
  {
   "cell_type": "markdown",
   "id": "d3a932ed",
   "metadata": {},
   "source": [
    "< [Table of Contents](#top) | [References](#references) >\n",
    "<a id=\"I\"></a>\n",
    "***\n",
    "### Course Summary\n",
    "***"
   ]
  },
  {
   "cell_type": "markdown",
   "id": "66b70c20",
   "metadata": {},
   "source": []
  },
  {
   "cell_type": "markdown",
   "id": "2cc20932",
   "metadata": {},
   "source": [
    "***\n",
    "## END"
   ]
  },
  {
   "cell_type": "markdown",
   "id": "e0e42d51",
   "metadata": {},
   "source": [
    "< [Table of Contents](#top) >\n",
    "<a id=\"references\"></a>\n",
    "***\n",
    "## References\n",
    "***"
   ]
  },
  {
   "cell_type": "markdown",
   "id": "757bf6de",
   "metadata": {},
   "source": [
    "&nbsp;&nbsp;&nbsp;&nbsp;&nbsp;&nbsp;&nbsp;&nbsp;&nbsp;skillsoft, \"Professionalism and Integrity,\" [skillsoft.com](https://web.archive.org/web/20220403100053/https://www.skillsoft.com/), n.d.."
   ]
  },
  {
   "cell_type": "markdown",
   "id": "b33c372a",
   "metadata": {},
   "source": [
    "***\n",
    "## END"
   ]
  },
  {
   "cell_type": "markdown",
   "id": "e5961b4d",
   "metadata": {},
   "source": [
    "< [Table of Contents](#top) | [References](#references) >\n",
    "<a id=\"appendix\"></a>\n",
    "***\n",
    "## Appendix\n",
    "***"
   ]
  },
  {
   "cell_type": "markdown",
   "id": "00d82a82",
   "metadata": {},
   "source": [
    "***\n",
    "## END"
   ]
  },
  {
   "cell_type": "code",
   "execution_count": 1,
   "id": "706756a2",
   "metadata": {},
   "outputs": [
    {
     "name": "stderr",
     "output_type": "stream",
     "text": [
      "C:\\Users\\SeanOhAileasa\\AppData\\Local\\Temp\\ipykernel_7364\\1322614208.py:1: DeprecationWarning: Importing display from IPython.core.display is deprecated since IPython 7.14, please import from IPython display\n",
      "  from IPython.core.display import display,HTML\n"
     ]
    },
    {
     "data": {
      "text/html": [
       "<style>.container { width:100% !important; }</style>"
      ],
      "text/plain": [
       "<IPython.core.display.HTML object>"
      ]
     },
     "metadata": {},
     "output_type": "display_data"
    }
   ],
   "source": [
    "from IPython.core.display import display,HTML\n",
    "display(HTML(\"<style>.container { width:100% !important; }</style>\"))"
   ]
  },
  {
   "cell_type": "markdown",
   "id": "899c1783",
   "metadata": {},
   "source": [
    "# END JUPYTER NOTEBOOK"
   ]
  }
 ],
 "metadata": {
  "kernelspec": {
   "display_name": "Python 3 (ipykernel)",
   "language": "python",
   "name": "python3"
  },
  "language_info": {
   "codemirror_mode": {
    "name": "ipython",
    "version": 3
   },
   "file_extension": ".py",
   "mimetype": "text/x-python",
   "name": "python",
   "nbconvert_exporter": "python",
   "pygments_lexer": "ipython3",
   "version": "3.9.12"
  }
 },
 "nbformat": 4,
 "nbformat_minor": 5
}
